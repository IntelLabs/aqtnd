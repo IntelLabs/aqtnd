{
 "cells": [
  {
   "cell_type": "markdown",
   "id": "bf2ba5de",
   "metadata": {},
   "source": [
    "### Simple jury-rigged example of particle-conserving circuit.\n",
    "4 hardcore bosonic modes.\n",
    "2 particles."
   ]
  },
  {
   "cell_type": "code",
   "execution_count": 62,
   "id": "75255cd3",
   "metadata": {},
   "outputs": [],
   "source": [
    "import quimb\n",
    "import quimb.tensor as qtn\n",
    "import numpy as np\n",
    "import itertools\n",
    "\n",
    "# Output all lone lines\n",
    "from IPython.core.interactiveshell import InteractiveShell\n",
    "InteractiveShell.ast_node_interactivity = \"all\""
   ]
  },
  {
   "cell_type": "code",
   "execution_count": 49,
   "id": "e58d7c6f",
   "metadata": {},
   "outputs": [
    {
     "name": "stdout",
     "output_type": "stream",
     "text": [
      "[[[[ 1.          0.        ]\n",
      "   [ 0.          0.        ]]\n",
      "\n",
      "  [[ 0.          0.98006658]\n",
      "   [-0.19866933  0.        ]]]\n",
      "\n",
      "\n",
      " [[[ 0.          0.19866933]\n",
      "   [ 0.98006658  0.        ]]\n",
      "\n",
      "  [[ 0.          0.        ]\n",
      "   [ 0.          1.        ]]]]\n"
     ]
    }
   ],
   "source": [
    "\n",
    "# Return rank-4 U(1)-preserving tensor\n",
    "def getATens(theta,phi=0):\n",
    "    \n",
    "    A_data = np.zeros((4,4))\n",
    "    A_data[0,0] = A_data[3,3] = 1\n",
    "    A_data[1,1] = A_data[2,2] = np.cos(theta)\n",
    "    A_data[1,2] = -np.sin(theta)\n",
    "    A_data[2,1] = np.sin(theta)\n",
    "    return(A_data.reshape((2,2,2,2)))\n",
    "\n",
    "print( getATens(.2) )\n"
   ]
  },
  {
   "cell_type": "code",
   "execution_count": 36,
   "id": "86d26038",
   "metadata": {},
   "outputs": [
    {
     "name": "stdout",
     "output_type": "stream",
     "text": [
      "TensorNetwork([\n",
      "    Tensor(shape=(2,), inds=('a',), tags=oset([])),\n",
      "    Tensor(shape=(2,), inds=('b',), tags=oset([])),\n",
      "    Tensor(shape=(2,), inds=('c',), tags=oset([])),\n",
      "    Tensor(shape=(2,), inds=('d',), tags=oset([])),\n",
      "    Tensor(shape=(2, 2, 2, 2), inds=('a', 'b', 'e', 'f'), tags=oset([])),\n",
      "    Tensor(shape=(2, 2, 2, 2), inds=('c', 'd', 'g', 'h'), tags=oset([])),\n",
      "    Tensor(shape=(2, 2, 2, 2), inds=('f', 'g', 'i', 'j'), tags=oset([])),\n",
      "])\n",
      "Tensor(shape=(2, 2, 2, 2), inds=('e', 'h', 'i', 'j'), tags=oset([]), backend='numpy', dtype='float64')\n"
     ]
    }
   ],
   "source": [
    "# The four \"top\" nodes\n",
    "i0 = qtn.Tensor([1,0],inds=('a'))  # |0>\n",
    "i1 = qtn.Tensor([0,1],inds=('b'))  # |1>\n",
    "i2 = qtn.Tensor([0,1],inds=('c'))  # |1>\n",
    "i3 = qtn.Tensor([1,0],inds=('d'))  # |0>\n",
    "\n",
    "# Three rank-4 tensors\n",
    "Aa = qtn.Tensor(data=getATens(.2), inds=('a','b','e','f'))\n",
    "Ab = qtn.Tensor(data=getATens(.2), inds=('c','d','g','h'))\n",
    "Ac = qtn.Tensor(data=getATens(.2), inds=('f','g','i','j'))\n",
    "\n",
    "# Stitch together tensors\n",
    "TN = i0 & i1 & i2 & i3 & Aa & Ab & Ac\n",
    "print(TN)\n",
    "\n",
    "# Ensure it contracts to rank-4 tensor\n",
    "print(TN^...)\n"
   ]
  },
  {
   "cell_type": "code",
   "execution_count": 45,
   "id": "c7f32eac",
   "metadata": {},
   "outputs": [
    {
     "data": {
      "image/png": "[encoded data removed]",
      "text/plain": [
       "<Figure size 600x600 with 1 Axes>"
      ]
     },
     "metadata": {},
     "output_type": "display_data"
    },
    {
     "name": "stdout",
     "output_type": "stream",
     "text": [
      "'i' and 'j' are on top of each other in the drawing\n"
     ]
    }
   ],
   "source": [
    "# Draw\n",
    "TN.draw(iterations=15)\n",
    "print(\"'i' and 'j' are on top of each other in the drawing\")"
   ]
  },
  {
   "cell_type": "code",
   "execution_count": 50,
   "id": "079eee6c",
   "metadata": {},
   "outputs": [
    {
     "name": "stdout",
     "output_type": "stream",
     "text": [
      "[[[[ 0.          0.        ]\n",
      "   [ 0.          0.9605305 ]]\n",
      "\n",
      "  [[ 0.          0.03868274]\n",
      "   [ 0.19082795  0.        ]]]\n",
      "\n",
      "\n",
      " [[[ 0.         -0.19082795]\n",
      "   [ 0.03868274  0.        ]]\n",
      "\n",
      "  [[-0.0394695   0.        ]\n",
      "   [ 0.          0.        ]]]]\n",
      "0 0 0 0\n",
      "Should be zero:\n",
      "0.0\n",
      "\n",
      "0 0 0 1\n",
      "Should be zero:\n",
      "0.0\n",
      "\n",
      "0 0 1 0\n",
      "Should be zero:\n",
      "0.0\n",
      "\n",
      "0 0 1 1\n",
      "Should be nonzero:\n",
      "0.9605304970014426\n",
      "\n",
      "0 1 0 0\n",
      "Should be zero:\n",
      "0.0\n",
      "\n",
      "0 1 0 1\n",
      "Should be nonzero:\n",
      "0.03868274073289083\n",
      "\n",
      "0 1 1 0\n",
      "Should be nonzero:\n",
      "0.19082795104752415\n",
      "\n",
      "0 1 1 1\n",
      "Should be zero:\n",
      "0.0\n",
      "\n",
      "1 0 0 0\n",
      "Should be zero:\n",
      "0.0\n",
      "\n",
      "1 0 0 1\n",
      "Should be nonzero:\n",
      "-0.19082795104752412\n",
      "\n",
      "1 0 1 0\n",
      "Should be nonzero:\n",
      "0.03868274073289083\n",
      "\n",
      "1 0 1 1\n",
      "Should be zero:\n",
      "0.0\n",
      "\n",
      "1 1 0 0\n",
      "Should be nonzero:\n",
      "-0.039469502998557456\n",
      "\n",
      "1 1 0 1\n",
      "Should be zero:\n",
      "0.0\n",
      "\n",
      "1 1 1 0\n",
      "Should be zero:\n",
      "0.0\n",
      "\n",
      "1 1 1 1\n",
      "Should be zero:\n",
      "0.0\n",
      "\n"
     ]
    }
   ],
   "source": [
    "# Fully contract the TN\n",
    "final = (TN^...)\n",
    "print(final.data)\n",
    "\n",
    "# Test that only N=2 states are nonzero\n",
    "for I,J,K,L in itertools.product([0,1],repeat=4):\n",
    "    print(I,J,K,L)\n",
    "    print(f\"Should be {'nonzero' if sum([I,J,K,L])==2 else 'zero'}:\")\n",
    "    print(final.data[I,J,K,L])\n",
    "    print()\n",
    "    \n"
   ]
  },
  {
   "cell_type": "code",
   "execution_count": null,
   "id": "66712f05",
   "metadata": {},
   "outputs": [],
   "source": []
  },
  {
   "cell_type": "code",
   "execution_count": 66,
   "id": "eef7ccb9",
   "metadata": {},
   "outputs": [
    {
     "data": {
      "text/plain": [
       "array([[-0.70710678, -0.70710678],\n",
       "       [-0.70710678,  0.70710678]])"
      ]
     },
     "metadata": {},
     "output_type": "display_data"
    },
    {
     "data": {
      "text/plain": [
       "array([1.41421356, 1.41421356])"
      ]
     },
     "metadata": {},
     "output_type": "display_data"
    },
    {
     "data": {
      "text/plain": [
       "array([[-1., -0.],\n",
       "       [-0., -1.]])"
      ]
     },
     "metadata": {},
     "output_type": "display_data"
    },
    {
     "data": {
      "text/plain": [
       "array([[-1., -1.],\n",
       "       [-1.,  1.]])"
      ]
     },
     "execution_count": 66,
     "metadata": {},
     "output_type": "execute_result"
    },
    {
     "data": {
      "text/plain": [
       "array([[-1., -0.],\n",
       "       [-0., -1.]])"
      ]
     },
     "execution_count": 66,
     "metadata": {},
     "output_type": "execute_result"
    },
    {
     "data": {
      "text/plain": [
       "array([[-0.70710678, -0.70710678],\n",
       "       [-0.70710678,  0.70710678]])"
      ]
     },
     "execution_count": 66,
     "metadata": {},
     "output_type": "execute_result"
    },
    {
     "data": {
      "text/plain": [
       "array([[-1.41421356,  0.        ],\n",
       "       [ 0.        , -1.41421356]])"
      ]
     },
     "execution_count": 66,
     "metadata": {},
     "output_type": "execute_result"
    },
    {
     "data": {
      "text/plain": [
       "array([[-0.84089642, -0.84089642],\n",
       "       [-0.84089642,  0.84089642]])"
      ]
     },
     "execution_count": 66,
     "metadata": {},
     "output_type": "execute_result"
    },
    {
     "data": {
      "text/plain": [
       "array([[-1.18920712,  0.        ],\n",
       "       [ 0.        , -1.18920712]])"
      ]
     },
     "execution_count": 66,
     "metadata": {},
     "output_type": "execute_result"
    }
   ],
   "source": [
    "# B = np.array([[1,2],[3,-4.]])\n",
    "B = np.array([[1,1],[1,-1.]])\n",
    "u,d,w = np.linalg.svd(B)\n",
    "display(u,d,w)\n",
    "d = np.diag(d)\n",
    "\n",
    "# Absorb left:\n",
    "u.dot(d)\n",
    "w\n",
    "\n",
    "# Absorb right:\n",
    "u\n",
    "d.dot(w)\n",
    "\n",
    "# Absorb both:\n",
    "u.dot(np.sqrt(d))\n",
    "np.sqrt(d).dot(w)\n"
   ]
  },
  {
   "cell_type": "code",
   "execution_count": null,
   "id": "8073bf44",
   "metadata": {},
   "outputs": [],
   "source": []
  },
  {
   "cell_type": "code",
   "execution_count": null,
   "id": "99a172bd",
   "metadata": {},
   "outputs": [],
   "source": []
  },
  {
   "cell_type": "code",
   "execution_count": null,
   "id": "6091517d",
   "metadata": {},
   "outputs": [],
   "source": []
  },
  {
   "cell_type": "code",
   "execution_count": null,
   "id": "ee653123",
   "metadata": {},
   "outputs": [],
   "source": []
  },
  {
   "cell_type": "code",
   "execution_count": null,
   "id": "1906440f",
   "metadata": {},
   "outputs": [],
   "source": []
  },
  {
   "cell_type": "code",
   "execution_count": null,
   "id": "6f2ef7d2",
   "metadata": {},
   "outputs": [],
   "source": []
  },
  {
   "cell_type": "code",
   "execution_count": null,
   "id": "a929f061",
   "metadata": {},
   "outputs": [],
   "source": []
  },
  {
   "cell_type": "code",
   "execution_count": null,
   "id": "dc8d252e",
   "metadata": {},
   "outputs": [],
   "source": []
  },
  {
   "cell_type": "code",
   "execution_count": null,
   "id": "b0939c9c",
   "metadata": {},
   "outputs": [],
   "source": []
  },
  {
   "cell_type": "code",
   "execution_count": null,
   "id": "017084fc",
   "metadata": {},
   "outputs": [],
   "source": []
  },
  {
   "cell_type": "code",
   "execution_count": null,
   "id": "93541c9c",
   "metadata": {},
   "outputs": [],
   "source": []
  },
  {
   "cell_type": "code",
   "execution_count": null,
   "id": "eb714ecd",
   "metadata": {},
   "outputs": [],
   "source": []
  }
 ],
 "metadata": {
  "kernelspec": {
   "display_name": "Python 3 (ipykernel)",
   "language": "python",
   "name": "python3"
  },
  "language_info": {
   "codemirror_mode": {
    "name": "ipython",
    "version": 3
   },
   "file_extension": ".py",
   "mimetype": "text/x-python",
   "name": "python",
   "nbconvert_exporter": "python",
   "pygments_lexer": "ipython3",
   "version": "3.10.6"
  }
 },
 "nbformat": 4,
 "nbformat_minor": 5
}
